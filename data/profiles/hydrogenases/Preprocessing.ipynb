{
 "cells": [
  {
   "cell_type": "code",
   "execution_count": 1,
   "metadata": {},
   "outputs": [],
   "source": [
    "import os\n",
    "import re\n",
    "\n",
    "import numpy as np\n",
    "import pandas as pd\n",
    "\n",
    "from Bio import SeqIO"
   ]
  },
  {
   "cell_type": "code",
   "execution_count": 2,
   "metadata": {},
   "outputs": [],
   "source": [
    "DATA_DIR = \"./raw/\""
   ]
  },
  {
   "cell_type": "code",
   "execution_count": 3,
   "metadata": {},
   "outputs": [],
   "source": [
    "def save_sequences(\n",
    "    df: pd.DataFrame,\n",
    "    out_dir: str,\n",
    "    out_prefix: str,\n",
    "    group_col: str = \"type\",\n",
    "    name_cols: list[str] = [\"id\", \"name\", \"type\", \"group\"]\n",
    ") -> None:\n",
    "\n",
    "    for group in df[group_col].unique():\n",
    "        group_df = df[df[group_col] == group].copy()\n",
    "\n",
    "        for subgroup in group_df[\"group\"].unique():\n",
    "            subgroup_path = os.path.join(\n",
    "                out_dir,\n",
    "                f\"{out_prefix}_{group}_{subgroup}.fasta\"\n",
    "            )\n",
    "            subgroup_df = group_df[group_df[\"group\"] == subgroup].copy()\n",
    "\n",
    "            with open(subgroup_path, \"w\") as handle:\n",
    "                for _, row in subgroup_df.iterrows():\n",
    "                    sequence = \">\" + \"|\".join(row[name_cols])\n",
    "\n",
    "                    # Remove whitespaces\n",
    "                    sequence = re.sub(\n",
    "                        pattern=\"\\\\s+\",\n",
    "                        repl=\"_\",\n",
    "                        string=sequence\n",
    "                    )\n",
    "                    sequence += \"\\n\"\n",
    "\n",
    "                    sequence += row[\"seq\"] + \"\\n\"\n",
    "                    handle.write(sequence)\n"
   ]
  },
  {
   "cell_type": "markdown",
   "metadata": {},
   "source": [
    "## HydDB"
   ]
  },
  {
   "cell_type": "code",
   "execution_count": 4,
   "metadata": {},
   "outputs": [],
   "source": [
    "hyd_df = pd.read_excel(\n",
    "    os.path.join(\n",
    "        DATA_DIR,\n",
    "        \"hyddb\",\n",
    "        \"41598_2016_BFsrep34212_MOESM2_ESM.xls\"\n",
    "    ),\n",
    "    sheet_name=\"Offline version\"\n",
    ")\n",
    "\n",
    "# Rename to fit format\n",
    "hyd_df = hyd_df.rename(columns={\n",
    "    \"NCBI Accession\": \"id\",\n",
    "    \"Protein Sequence\": \"seq\",\n",
    "    \"Organism\": \"name\",\n",
    "    \"New Class\": \"type\"\n",
    "})\n",
    "hyd_df[[\"type\", \"group\"]] = hyd_df[\"type\"].str.split(\"]\", expand=True)\n",
    "\n",
    "# Format type and group columns\n",
    "hyd_df[\"type\"] = hyd_df[\"type\"].str.lstrip(\"[\")\n",
    "hyd_df[\"group\"] = hyd_df[\"group\"]\\\n",
    "    .str.split(\" Group \").str[-1]\n",
    "\n",
    "# Add type if no group is present (Fe hydrogenases)\n",
    "hyd_df[\"group\"] = hyd_df[\"group\"]\\\n",
    "    .replace(\"\", np.nan)\\\n",
    "    .fillna(value=hyd_df[\"type\"])"
   ]
  },
  {
   "cell_type": "markdown",
   "metadata": {},
   "source": [
    "## Review hydrogenases"
   ]
  },
  {
   "cell_type": "code",
   "execution_count": 5,
   "metadata": {},
   "outputs": [],
   "source": [
    "review_path = os.path.join(\n",
    "    DATA_DIR,\n",
    "    \"review\",\n",
    "    \"MC_HYD_DATABASE_derep_FINAL_VERSION.fasta\"\n",
    ")\n",
    "\n",
    "review_df = []\n",
    "\n",
    "for record in SeqIO.parse(review_path, \"fasta\"):\n",
    "\n",
    "    # Fix headers\n",
    "    record.description = record.description.replace(\" _\", \"|\")\n",
    "\n",
    "    review_df.append(\n",
    "        pd.DataFrame(\n",
    "            [record.description.split(\"|\") + [str(record.seq)]],\n",
    "            columns=[\"id\", \"name\", \"group\", \"other\", \"seq\"]\n",
    "        )\n",
    "    )\n",
    "\n",
    "review_df = pd.concat(\n",
    "    review_df,\n",
    "    axis=0,\n",
    "    ignore_index=True\n",
    ")\n",
    "\n",
    "# Add hydrogenase type\n",
    "review_df = pd.merge(\n",
    "    left=review_df,\n",
    "    right=hyd_df[[\"type\", \"group\"]].drop_duplicates(),\n",
    "    on=\"group\",\n",
    "    how=\"left\"\n",
    ")\n",
    "\n",
    "# Add hydrogenases missing in HydDB\n",
    "review_df.loc[\n",
    "    review_df[\"group\"] == \"1l\",\n",
    "    \"type\"\n",
    "] = \"NiFe\""
   ]
  },
  {
   "cell_type": "markdown",
   "metadata": {},
   "source": [
    "## Concatenate and save"
   ]
  },
  {
   "cell_type": "code",
   "execution_count": 6,
   "metadata": {},
   "outputs": [],
   "source": [
    "final_cols = [\n",
    "    \"id\",\n",
    "    \"name\",\n",
    "    \"type\",\n",
    "    \"group\",\n",
    "    \"seq\",\n",
    "    \"source\"\n",
    "]\n",
    "\n",
    "# Add source column\n",
    "hyd_df[\"source\"] = \"HydDB\"\n",
    "review_df[\"source\"] = \"Review\"\n",
    "\n",
    "# Concatenate datasets\n",
    "final_df = pd.concat([hyd_df[final_cols], review_df[final_cols]])\n",
    "\n",
    "# Drop potential duplicates\n",
    "final_df = final_df.drop_duplicates(subset=\"id\", keep=\"first\")"
   ]
  },
  {
   "cell_type": "code",
   "execution_count": 7,
   "metadata": {},
   "outputs": [
    {
     "data": {
      "text/plain": [
       "source\n",
       "Review    4195\n",
       "HydDB     3248\n",
       "Name: count, dtype: int64"
      ]
     },
     "execution_count": 7,
     "metadata": {},
     "output_type": "execute_result"
    }
   ],
   "source": [
    "final_df[\"source\"].value_counts()"
   ]
  },
  {
   "cell_type": "code",
   "execution_count": 8,
   "metadata": {},
   "outputs": [],
   "source": [
    "save_sequences(\n",
    "    df=final_df,\n",
    "    out_dir=\"./sequences/\",\n",
    "    out_prefix=\"mixed\",\n",
    "    name_cols=[col for col in final_cols if col != \"seq\"]\n",
    ")"
   ]
  }
 ],
 "metadata": {
  "kernelspec": {
   "display_name": "pipeline-hmm",
   "language": "python",
   "name": "python3"
  },
  "language_info": {
   "codemirror_mode": {
    "name": "ipython",
    "version": 3
   },
   "file_extension": ".py",
   "mimetype": "text/x-python",
   "name": "python",
   "nbconvert_exporter": "python",
   "pygments_lexer": "ipython3",
   "version": "3.12.7"
  }
 },
 "nbformat": 4,
 "nbformat_minor": 2
}
